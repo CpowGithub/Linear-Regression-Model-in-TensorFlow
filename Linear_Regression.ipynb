{
 "cells": [
  {
   "cell_type": "markdown",
   "metadata": {},
   "source": [
    "*Please note: This is a coding challenge I set for myself.*\n",
    "\n",
    "*Please note: The idea for this code is based on an episode of \"Complete Guide to TensorFlow for Deep Learning with Python!\" by Jose Portilla *\n",
    "\n",
    "\n",
    "## Coding Challenge:\n",
    "\n",
    "1. Get more practice with jupyter notebook\n",
    "2. Get more practice with git\n",
    "3. Get more practice with python\n",
    "4. Learn how to use Tensorflow<br>\n",
    "4.1 Set up a linear regression model in Tensorflow"
   ]
  },
  {
   "cell_type": "markdown",
   "metadata": {},
   "source": [
    "## What is linear Regression?"
   ]
  },
  {
   "cell_type": "markdown",
   "metadata": {},
   "source": [
    "* linear regression is a statistical technique used to explain an observed dependent variable by one or more independent variables\n",
    "* the dependent variable is represented as a linear combination of the regression coefficients\n",
    "\n",
    "### Equation:\n",
    "$y = mx + b$\n",
    "\n",
    "$m$ = the slope of the line<br>\n",
    "$b$ = intercept with the y-axis<br>\n",
    "$x$ = input<br>\n",
    "$y$ = prediction"
   ]
  },
  {
   "cell_type": "markdown",
   "metadata": {},
   "source": [
    "## Linear Regression (in TensorFlow)"
   ]
  },
  {
   "cell_type": "code",
   "execution_count": 1,
   "metadata": {
    "collapsed": true
   },
   "outputs": [],
   "source": [
    "import numpy as np \n",
    "import pandas as pd\n",
    "import tensorflow as tf\n",
    "import math\n",
    "from sklearn.model_selection import train_test_split\n",
    "\n",
    "import matplotlib.pyplot as plt\n",
    "%matplotlib inline"
   ]
  },
  {
   "cell_type": "code",
   "execution_count": 2,
   "metadata": {
    "collapsed": true
   },
   "outputs": [],
   "source": [
    "def gen_noisy_dataset_with_lin_tendency(start_value, stop_value, number_of_datapoints, x_col_name=\"X\", y_col_name=\"Y\"):\n",
    "    \"\"\"\n",
    "    Create a noisy dataset with linear tendency\n",
    "    :param start_value : The starting value of the sequence.\n",
    "    :param stop_value : The end value of the sequence\n",
    "    :param number_of_datapoints : Number of samples to generate\n",
    "    :param x_col_name : Name for the DataFrame column containing the x values\n",
    "    :param y_col_name : Name for the DataFrame column containing the y values\n",
    "    :return: Noisy dataset with linear tendency as DataFrame\n",
    "    \"\"\"\n",
    "    generated_dataset = np.linspace(start_value, stop_value, number_of_datapoints)\n",
    "    noise = np.random.randn(len(generated_dataset))\n",
    "    labels = (0.5 * generated_dataset) + 5 + noise\n",
    "    return pd.concat([pd.DataFrame(data=generated_dataset, columns=[x_col_name]), \n",
    "                      pd.DataFrame(data=labels, columns=[y_col_name])], \n",
    "                     axis = 1)"
   ]
  },
  {
   "cell_type": "code",
   "execution_count": 3,
   "metadata": {
    "collapsed": true
   },
   "outputs": [],
   "source": [
    "def batches(batch_size, features, labels):\n",
    "    \"\"\"\n",
    "    Create batches containing features and labels\n",
    "    :param batch_size: The size of the batch\n",
    "    :param features: List of features\n",
    "    :param labels: List of labels\n",
    "    :return: Batches of (Features, Labels)\n",
    "    \"\"\"\n",
    "    assert len(features) == len(labels)\n",
    "\n",
    "    output_batches = []\n",
    "    \n",
    "    sample_size = len(features)\n",
    "    for start_i in range(0, sample_size, batch_size):\n",
    "        end_i = start_i + batch_size\n",
    "        batch = [features[start_i:end_i], labels[start_i:end_i]]\n",
    "        output_batches.append(batch)\n",
    "        \n",
    "    return output_batches"
   ]
  },
  {
   "cell_type": "code",
   "execution_count": 4,
   "metadata": {},
   "outputs": [],
   "source": [
    "# generate a large toy dataset for the linear regression example\n",
    "x_y_df = gen_noisy_dataset_with_lin_tendency(0.0, 10.0, 500000)"
   ]
  },
  {
   "cell_type": "code",
   "execution_count": 5,
   "metadata": {},
   "outputs": [
    {
     "data": {
      "text/plain": [
       "<matplotlib.axes._subplots.AxesSubplot at 0x1470692bba8>"
      ]
     },
     "execution_count": 5,
     "metadata": {},
     "output_type": "execute_result"
    },
    {
     "data": {
      "image/png": "[encoded data removed]",
      "text/plain": [
       "<matplotlib.figure.Figure at 0x14774d99470>"
      ]
     },
     "metadata": {},
     "output_type": "display_data"
    }
   ],
   "source": [
    "# visualize the toy dataset - sample cause the dataset is hugh\n",
    "x_y_df.sample(n=250).plot(kind=\"scatter\", x =\"X\", y=\"Y\")"
   ]
  },
  {
   "cell_type": "markdown",
   "metadata": {},
   "source": [
    "### Set up the model"
   ]
  },
  {
   "cell_type": "code",
   "execution_count": 6,
   "metadata": {
    "collapsed": true
   },
   "outputs": [],
   "source": [
    "# slope\n",
    "m = tf.Variable(np.random.randn(1)[0], dtype=tf.float32)\n",
    "# y intercept\n",
    "b = tf.Variable(np.random.randn(1)[0], dtype=tf.float32)"
   ]
  },
  {
   "cell_type": "code",
   "execution_count": 7,
   "metadata": {
    "collapsed": true
   },
   "outputs": [],
   "source": [
    "xph = tf.placeholder(tf.float32,[None])\n",
    "yph = tf.placeholder(tf.float32,[None])"
   ]
  },
  {
   "cell_type": "code",
   "execution_count": 8,
   "metadata": {
    "collapsed": true
   },
   "outputs": [],
   "source": [
    "# y = Wx + b\n",
    "y_model = tf.add(tf.multiply(m, xph), b)"
   ]
  },
  {
   "cell_type": "code",
   "execution_count": 9,
   "metadata": {
    "collapsed": true
   },
   "outputs": [],
   "source": [
    "error = tf.reduce_sum(tf.square(yph - y_model))"
   ]
  },
  {
   "cell_type": "code",
   "execution_count": 10,
   "metadata": {
    "collapsed": true
   },
   "outputs": [],
   "source": [
    "optimizer = tf.train.GradientDescentOptimizer(learning_rate=0.001)\n",
    "train = optimizer.minimize(error)"
   ]
  },
  {
   "cell_type": "code",
   "execution_count": 11,
   "metadata": {
    "collapsed": true
   },
   "outputs": [],
   "source": [
    "# a million data points is a huge dataset -> we need batches\n",
    "batch_size = 8"
   ]
  },
  {
   "cell_type": "code",
   "execution_count": 12,
   "metadata": {
    "collapsed": true
   },
   "outputs": [],
   "source": [
    "X_train, X_test, y_train, y_test = train_test_split(x_y_df[\"X\"], x_y_df[\"Y\"], test_size=0.33, random_state=42)"
   ]
  },
  {
   "cell_type": "markdown",
   "metadata": {},
   "source": [
    "### Run the session"
   ]
  },
  {
   "cell_type": "code",
   "execution_count": 13,
   "metadata": {
    "collapsed": true
   },
   "outputs": [],
   "source": [
    "with tf.Session() as sess:\n",
    "    sess.run(tf.global_variables_initializer())\n",
    "    \n",
    "    for start_i in range(0, len(X_train), batch_size):\n",
    "        end_i = start_i + batch_size\n",
    "        batch = [X_train[start_i:end_i], y_train[start_i:end_i]]\n",
    "        sess.run(train, feed_dict={xph:batch[0], \n",
    "                                   yph:batch[1]})\n",
    "\n",
    "    y_hat = sess.run(y_model, feed_dict={xph:X_test})"
   ]
  },
  {
   "cell_type": "code",
   "execution_count": 14,
   "metadata": {},
   "outputs": [
    {
     "data": {
      "text/plain": [
       "[<matplotlib.lines.Line2D at 0x1470719e748>]"
      ]
     },
     "execution_count": 14,
     "metadata": {},
     "output_type": "execute_result"
    },
    {
     "data": {
      "image/png": "[encoded data removed]",
      "text/plain": [
       "<matplotlib.figure.Figure at 0x1470719e908>"
      ]
     },
     "metadata": {},
     "output_type": "display_data"
    }
   ],
   "source": [
    "# visualize the toy dataset vs regression line\n",
    "x_y_test_df = pd.concat([pd.DataFrame(data=X_test, columns=[\"X\"]), \n",
    "                         pd.DataFrame(data=y_test, columns=[\"Y\"])], \n",
    "                        axis = 1)\n",
    "\n",
    "x_y_test_df.sample(n=250).plot(kind=\"scatter\", x=\"X\", y=\"Y\")\n",
    "plt.plot(x_y_test_df[\"X\"], y_hat, \"r\")"
   ]
  }
 ],
 "metadata": {
  "kernelspec": {
   "display_name": "Python 3",
   "language": "python",
   "name": "python3"
  },
  "language_info": {
   "codemirror_mode": {
    "name": "ipython",
    "version": 3
   },
   "file_extension": ".py",
   "mimetype": "text/x-python",
   "name": "python",
   "nbconvert_exporter": "python",
   "pygments_lexer": "ipython3",
   "version": "3.6.4"
  },
  "varInspector": {
   "cols": {
    "lenName": 16,
    "lenType": 16,
    "lenVar": 40
   },
   "kernels_config": {
    "python": {
     "delete_cmd_postfix": "",
     "delete_cmd_prefix": "del ",
     "library": "var_list.py",
     "varRefreshCmd": "print(var_dic_list())"
    },
    "r": {
     "delete_cmd_postfix": ") ",
     "delete_cmd_prefix": "rm(",
     "library": "var_list.r",
     "varRefreshCmd": "cat(var_dic_list()) "
    }
   },
   "types_to_exclude": [
    "module",
    "function",
    "builtin_function_or_method",
    "instance",
    "_Feature"
   ],
   "window_display": false
  }
 },
 "nbformat": 4,
 "nbformat_minor": 2
}
